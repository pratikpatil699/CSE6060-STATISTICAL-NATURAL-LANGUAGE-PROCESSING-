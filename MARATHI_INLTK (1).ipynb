{
 "cells": [
  {
   "cell_type": "markdown",
   "metadata": {
    "colab_type": "text",
    "id": "7AKTayDHRi-9"
   },
   "source": [
    "# PRATIK PATIL \n",
    "# MARATHI LANGUAGE TASKS USING INLTK"
   ]
  },
  {
   "cell_type": "code",
   "execution_count": null,
   "metadata": {
    "colab": {
     "base_uri": "https://localhost:8080/",
     "height": 202
    },
    "colab_type": "code",
    "id": "hC5NZwfv7y-0",
    "outputId": "b8b863a4-0066-46b6-b790-6b358de80cb4"
   },
   "outputs": [
    {
     "name": "stdout",
     "output_type": "stream",
     "text": [
      "Looking in links: https://download.pytorch.org/whl/torch_stable.html\n",
      "Collecting torch==1.3.1+cpu\n",
      "\u001b[?25l  Downloading https://download.pytorch.org/whl/cpu/torch-1.3.1%2Bcpu-cp36-cp36m-linux_x86_64.whl (111.8MB)\n",
      "\u001b[K     |████████████████████████████████| 111.8MB 47kB/s \n",
      "\u001b[?25hRequirement already satisfied: numpy in /usr/local/lib/python3.6/dist-packages (from torch==1.3.1+cpu) (1.18.5)\n",
      "\u001b[31mERROR: torchvision 0.6.1+cu101 has requirement torch==1.5.1, but you'll have torch 1.3.1+cpu which is incompatible.\u001b[0m\n",
      "Installing collected packages: torch\n",
      "  Found existing installation: torch 1.5.1+cu101\n",
      "    Uninstalling torch-1.5.1+cu101:\n",
      "      Successfully uninstalled torch-1.5.1+cu101\n",
      "Successfully installed torch-1.3.1+cpu\n"
     ]
    }
   ],
   "source": [
    "!pip install torch==1.3.1+cpu -f https://download.pytorch.org/whl/torch_stable.html"
   ]
  },
  {
   "cell_type": "code",
   "execution_count": null,
   "metadata": {
    "colab": {
     "base_uri": "https://localhost:8080/",
     "height": 1000
    },
    "colab_type": "code",
    "id": "CXQGyJLw72vN",
    "outputId": "4c592173-f811-46d4-cebc-0816a1ea5b12"
   },
   "outputs": [
    {
     "name": "stdout",
     "output_type": "stream",
     "text": [
      "Collecting inltk\n",
      "  Downloading https://files.pythonhosted.org/packages/4a/6b/27e71de5a61d1cb3b37abb566880b023029b95183224a60088da9abb224b/inltk-0.8.1-py3-none-any.whl\n",
      "Requirement already satisfied: packaging in /usr/local/lib/python3.6/dist-packages (from inltk) (20.4)\n",
      "Requirement already satisfied: matplotlib in /usr/local/lib/python3.6/dist-packages (from inltk) (3.2.2)\n",
      "Requirement already satisfied: Pillow in /usr/local/lib/python3.6/dist-packages (from inltk) (7.0.0)\n",
      "Requirement already satisfied: nvidia-ml-py3 in /usr/local/lib/python3.6/dist-packages (from inltk) (7.352.0)\n",
      "Requirement already satisfied: typing in /usr/local/lib/python3.6/dist-packages (from inltk) (3.6.6)\n",
      "Requirement already satisfied: dataclasses; python_version < \"3.7\" in /usr/local/lib/python3.6/dist-packages (from inltk) (0.7)\n",
      "Requirement already satisfied: pandas in /usr/local/lib/python3.6/dist-packages (from inltk) (1.0.5)\n",
      "Collecting aiohttp>=3.5.4\n",
      "\u001b[?25l  Downloading https://files.pythonhosted.org/packages/7c/39/7eb5f98d24904e0f6d3edb505d4aa60e3ef83c0a58d6fe18244a51757247/aiohttp-3.6.2-cp36-cp36m-manylinux1_x86_64.whl (1.2MB)\n",
      "\r",
      "\u001b[K     |▎                               | 10kB 19.5MB/s eta 0:00:01\r",
      "\u001b[K     |▋                               | 20kB 10.8MB/s eta 0:00:01\r",
      "\u001b[K     |▉                               | 30kB 2.6MB/s eta 0:00:01\r",
      "\u001b[K     |█▏                              | 40kB 3.4MB/s eta 0:00:01\r",
      "\u001b[K     |█▍                              | 51kB 3.7MB/s eta 0:00:01\r",
      "\u001b[K     |█▊                              | 61kB 4.0MB/s eta 0:00:01\r",
      "\u001b[K     |██                              | 71kB 4.2MB/s eta 0:00:01\r",
      "\u001b[K     |██▎                             | 81kB 3.4MB/s eta 0:00:01\r",
      "\u001b[K     |██▌                             | 92kB 3.8MB/s eta 0:00:01\r",
      "\u001b[K     |██▉                             | 102kB 4.1MB/s eta 0:00:01\r",
      "\u001b[K     |███                             | 112kB 4.1MB/s eta 0:00:01\r",
      "\u001b[K     |███▍                            | 122kB 4.1MB/s eta 0:00:01\r",
      "\u001b[K     |███▋                            | 133kB 4.1MB/s eta 0:00:01\r",
      "\u001b[K     |████                            | 143kB 4.1MB/s eta 0:00:01\r",
      "\u001b[K     |████▎                           | 153kB 4.1MB/s eta 0:00:01\r",
      "\u001b[K     |████▌                           | 163kB 4.1MB/s eta 0:00:01\r",
      "\u001b[K     |████▉                           | 174kB 4.1MB/s eta 0:00:01\r",
      "\u001b[K     |█████                           | 184kB 4.1MB/s eta 0:00:01\r",
      "\u001b[K     |█████▍                          | 194kB 4.1MB/s eta 0:00:01\r",
      "\u001b[K     |█████▋                          | 204kB 4.1MB/s eta 0:00:01\r",
      "\u001b[K     |██████                          | 215kB 4.1MB/s eta 0:00:01\r",
      "\u001b[K     |██████▏                         | 225kB 4.1MB/s eta 0:00:01\r",
      "\u001b[K     |██████▌                         | 235kB 4.1MB/s eta 0:00:01\r",
      "\u001b[K     |██████▊                         | 245kB 4.1MB/s eta 0:00:01\r",
      "\u001b[K     |███████                         | 256kB 4.1MB/s eta 0:00:01\r",
      "\u001b[K     |███████▎                        | 266kB 4.1MB/s eta 0:00:01\r",
      "\u001b[K     |███████▋                        | 276kB 4.1MB/s eta 0:00:01\r",
      "\u001b[K     |████████                        | 286kB 4.1MB/s eta 0:00:01\r",
      "\u001b[K     |████████▏                       | 296kB 4.1MB/s eta 0:00:01\r",
      "\u001b[K     |████████▌                       | 307kB 4.1MB/s eta 0:00:01\r",
      "\u001b[K     |████████▊                       | 317kB 4.1MB/s eta 0:00:01\r",
      "\u001b[K     |█████████                       | 327kB 4.1MB/s eta 0:00:01\r",
      "\u001b[K     |█████████▎                      | 337kB 4.1MB/s eta 0:00:01\r",
      "\u001b[K     |█████████▋                      | 348kB 4.1MB/s eta 0:00:01\r",
      "\u001b[K     |█████████▉                      | 358kB 4.1MB/s eta 0:00:01\r",
      "\u001b[K     |██████████▏                     | 368kB 4.1MB/s eta 0:00:01\r",
      "\u001b[K     |██████████▍                     | 378kB 4.1MB/s eta 0:00:01\r",
      "\u001b[K     |██████████▊                     | 389kB 4.1MB/s eta 0:00:01\r",
      "\u001b[K     |███████████                     | 399kB 4.1MB/s eta 0:00:01\r",
      "\u001b[K     |███████████▎                    | 409kB 4.1MB/s eta 0:00:01\r",
      "\u001b[K     |███████████▋                    | 419kB 4.1MB/s eta 0:00:01\r",
      "\u001b[K     |███████████▉                    | 430kB 4.1MB/s eta 0:00:01\r",
      "\u001b[K     |████████████▏                   | 440kB 4.1MB/s eta 0:00:01\r",
      "\u001b[K     |████████████▍                   | 450kB 4.1MB/s eta 0:00:01\r",
      "\u001b[K     |████████████▊                   | 460kB 4.1MB/s eta 0:00:01\r",
      "\u001b[K     |█████████████                   | 471kB 4.1MB/s eta 0:00:01\r",
      "\u001b[K     |█████████████▎                  | 481kB 4.1MB/s eta 0:00:01\r",
      "\u001b[K     |█████████████▌                  | 491kB 4.1MB/s eta 0:00:01\r",
      "\u001b[K     |█████████████▉                  | 501kB 4.1MB/s eta 0:00:01\r",
      "\u001b[K     |██████████████                  | 512kB 4.1MB/s eta 0:00:01\r",
      "\u001b[K     |██████████████▍                 | 522kB 4.1MB/s eta 0:00:01\r",
      "\u001b[K     |██████████████▋                 | 532kB 4.1MB/s eta 0:00:01\r",
      "\u001b[K     |███████████████                 | 542kB 4.1MB/s eta 0:00:01\r",
      "\u001b[K     |███████████████▎                | 552kB 4.1MB/s eta 0:00:01\r",
      "\u001b[K     |███████████████▌                | 563kB 4.1MB/s eta 0:00:01\r",
      "\u001b[K     |███████████████▉                | 573kB 4.1MB/s eta 0:00:01\r",
      "\u001b[K     |████████████████                | 583kB 4.1MB/s eta 0:00:01\r",
      "\u001b[K     |████████████████▍               | 593kB 4.1MB/s eta 0:00:01\r",
      "\u001b[K     |████████████████▋               | 604kB 4.1MB/s eta 0:00:01\r",
      "\u001b[K     |█████████████████               | 614kB 4.1MB/s eta 0:00:01\r",
      "\u001b[K     |█████████████████▏              | 624kB 4.1MB/s eta 0:00:01\r",
      "\u001b[K     |█████████████████▌              | 634kB 4.1MB/s eta 0:00:01\r",
      "\u001b[K     |█████████████████▊              | 645kB 4.1MB/s eta 0:00:01\r",
      "\u001b[K     |██████████████████              | 655kB 4.1MB/s eta 0:00:01\r",
      "\u001b[K     |██████████████████▎             | 665kB 4.1MB/s eta 0:00:01\r",
      "\u001b[K     |██████████████████▋             | 675kB 4.1MB/s eta 0:00:01\r",
      "\u001b[K     |██████████████████▉             | 686kB 4.1MB/s eta 0:00:01\r",
      "\u001b[K     |███████████████████▏            | 696kB 4.1MB/s eta 0:00:01\r",
      "\u001b[K     |███████████████████▌            | 706kB 4.1MB/s eta 0:00:01\r",
      "\u001b[K     |███████████████████▊            | 716kB 4.1MB/s eta 0:00:01\r",
      "\u001b[K     |████████████████████            | 727kB 4.1MB/s eta 0:00:01\r",
      "\u001b[K     |████████████████████▎           | 737kB 4.1MB/s eta 0:00:01\r",
      "\u001b[K     |████████████████████▋           | 747kB 4.1MB/s eta 0:00:01\r",
      "\u001b[K     |████████████████████▉           | 757kB 4.1MB/s eta 0:00:01\r",
      "\u001b[K     |█████████████████████▏          | 768kB 4.1MB/s eta 0:00:01\r",
      "\u001b[K     |█████████████████████▍          | 778kB 4.1MB/s eta 0:00:01\r",
      "\u001b[K     |█████████████████████▊          | 788kB 4.1MB/s eta 0:00:01\r",
      "\u001b[K     |██████████████████████          | 798kB 4.1MB/s eta 0:00:01\r",
      "\u001b[K     |██████████████████████▎         | 808kB 4.1MB/s eta 0:00:01\r",
      "\u001b[K     |██████████████████████▌         | 819kB 4.1MB/s eta 0:00:01\r",
      "\u001b[K     |██████████████████████▉         | 829kB 4.1MB/s eta 0:00:01\r",
      "\u001b[K     |███████████████████████▏        | 839kB 4.1MB/s eta 0:00:01\r",
      "\u001b[K     |███████████████████████▍        | 849kB 4.1MB/s eta 0:00:01\r",
      "\u001b[K     |███████████████████████▊        | 860kB 4.1MB/s eta 0:00:01\r",
      "\u001b[K     |████████████████████████        | 870kB 4.1MB/s eta 0:00:01\r",
      "\u001b[K     |████████████████████████▎       | 880kB 4.1MB/s eta 0:00:01\r",
      "\u001b[K     |████████████████████████▌       | 890kB 4.1MB/s eta 0:00:01\r",
      "\u001b[K     |████████████████████████▉       | 901kB 4.1MB/s eta 0:00:01\r",
      "\u001b[K     |█████████████████████████       | 911kB 4.1MB/s eta 0:00:01\r",
      "\u001b[K     |█████████████████████████▍      | 921kB 4.1MB/s eta 0:00:01\r",
      "\u001b[K     |█████████████████████████▋      | 931kB 4.1MB/s eta 0:00:01\r",
      "\u001b[K     |██████████████████████████      | 942kB 4.1MB/s eta 0:00:01\r",
      "\u001b[K     |██████████████████████████▏     | 952kB 4.1MB/s eta 0:00:01\r",
      "\u001b[K     |██████████████████████████▌     | 962kB 4.1MB/s eta 0:00:01\r",
      "\u001b[K     |██████████████████████████▉     | 972kB 4.1MB/s eta 0:00:01\r",
      "\u001b[K     |███████████████████████████     | 983kB 4.1MB/s eta 0:00:01\r",
      "\u001b[K     |███████████████████████████▍    | 993kB 4.1MB/s eta 0:00:01\r",
      "\u001b[K     |███████████████████████████▋    | 1.0MB 4.1MB/s eta 0:00:01\r",
      "\u001b[K     |████████████████████████████    | 1.0MB 4.1MB/s eta 0:00:01\r",
      "\u001b[K     |████████████████████████████▏   | 1.0MB 4.1MB/s eta 0:00:01\r",
      "\u001b[K     |████████████████████████████▌   | 1.0MB 4.1MB/s eta 0:00:01\r",
      "\u001b[K     |████████████████████████████▊   | 1.0MB 4.1MB/s eta 0:00:01\r",
      "\u001b[K     |█████████████████████████████   | 1.1MB 4.1MB/s eta 0:00:01\r",
      "\u001b[K     |█████████████████████████████▎  | 1.1MB 4.1MB/s eta 0:00:01\r",
      "\u001b[K     |█████████████████████████████▋  | 1.1MB 4.1MB/s eta 0:00:01\r",
      "\u001b[K     |█████████████████████████████▉  | 1.1MB 4.1MB/s eta 0:00:01\r",
      "\u001b[K     |██████████████████████████████▏ | 1.1MB 4.1MB/s eta 0:00:01\r",
      "\u001b[K     |██████████████████████████████▌ | 1.1MB 4.1MB/s eta 0:00:01\r",
      "\u001b[K     |██████████████████████████████▊ | 1.1MB 4.1MB/s eta 0:00:01\r",
      "\u001b[K     |███████████████████████████████ | 1.1MB 4.1MB/s eta 0:00:01\r",
      "\u001b[K     |███████████████████████████████▎| 1.1MB 4.1MB/s eta 0:00:01\r",
      "\u001b[K     |███████████████████████████████▋| 1.1MB 4.1MB/s eta 0:00:01\r",
      "\u001b[K     |███████████████████████████████▉| 1.2MB 4.1MB/s eta 0:00:01\r",
      "\u001b[K     |████████████████████████████████| 1.2MB 4.1MB/s \n",
      "\u001b[?25hRequirement already satisfied: fastprogress>=0.1.19 in /usr/local/lib/python3.6/dist-packages (from inltk) (0.2.3)\n",
      "Requirement already satisfied: pyyaml in /usr/local/lib/python3.6/dist-packages (from inltk) (3.13)\n",
      "Requirement already satisfied: scipy in /usr/local/lib/python3.6/dist-packages (from inltk) (1.4.1)\n",
      "Collecting sentencepiece\n",
      "\u001b[?25l  Downloading https://files.pythonhosted.org/packages/d4/a4/d0a884c4300004a78cca907a6ff9a5e9fe4f090f5d95ab341c53d28cbc58/sentencepiece-0.1.91-cp36-cp36m-manylinux1_x86_64.whl (1.1MB)\n",
      "\u001b[K     |████████████████████████████████| 1.1MB 30.1MB/s \n",
      "\u001b[?25hCollecting async-timeout>=3.0.1\n",
      "  Downloading https://files.pythonhosted.org/packages/e1/1e/5a4441be21b0726c4464f3f23c8b19628372f606755a9d2e46c187e65ec4/async_timeout-3.0.1-py3-none-any.whl\n",
      "Requirement already satisfied: numpy>=1.15 in /usr/local/lib/python3.6/dist-packages (from inltk) (1.18.5)\n",
      "Requirement already satisfied: spacy>=2.0.18 in /usr/local/lib/python3.6/dist-packages (from inltk) (2.2.4)\n",
      "Requirement already satisfied: numexpr in /usr/local/lib/python3.6/dist-packages (from inltk) (2.7.1)\n",
      "Requirement already satisfied: beautifulsoup4 in /usr/local/lib/python3.6/dist-packages (from inltk) (4.6.3)\n",
      "Collecting fastai==1.0.57\n",
      "\u001b[?25l  Downloading https://files.pythonhosted.org/packages/c1/e2/42342ded0385d694e3250e74f43f0dc9a3ff3d5c2241a2ddd98236b5f9de/fastai-1.0.57-py3-none-any.whl (233kB)\n",
      "\u001b[K     |████████████████████████████████| 235kB 31.1MB/s \n",
      "\u001b[?25hRequirement already satisfied: bottleneck in /usr/local/lib/python3.6/dist-packages (from inltk) (1.3.2)\n",
      "Requirement already satisfied: requests in /usr/local/lib/python3.6/dist-packages (from inltk) (2.23.0)\n",
      "Requirement already satisfied: six in /usr/local/lib/python3.6/dist-packages (from packaging->inltk) (1.12.0)\n",
      "Requirement already satisfied: pyparsing>=2.0.2 in /usr/local/lib/python3.6/dist-packages (from packaging->inltk) (2.4.7)\n",
      "Requirement already satisfied: kiwisolver>=1.0.1 in /usr/local/lib/python3.6/dist-packages (from matplotlib->inltk) (1.2.0)\n",
      "Requirement already satisfied: cycler>=0.10 in /usr/local/lib/python3.6/dist-packages (from matplotlib->inltk) (0.10.0)\n",
      "Requirement already satisfied: python-dateutil>=2.1 in /usr/local/lib/python3.6/dist-packages (from matplotlib->inltk) (2.8.1)\n",
      "Requirement already satisfied: pytz>=2017.2 in /usr/local/lib/python3.6/dist-packages (from pandas->inltk) (2018.9)\n",
      "Collecting yarl<2.0,>=1.0\n",
      "\u001b[?25l  Downloading https://files.pythonhosted.org/packages/95/8f/0209fc5d975f839344c33c822ff2f7ef80f6b1e984673a5a68f960bfa583/yarl-1.4.2-cp36-cp36m-manylinux1_x86_64.whl (252kB)\n",
      "\u001b[K     |████████████████████████████████| 256kB 31.6MB/s \n",
      "\u001b[?25hRequirement already satisfied: attrs>=17.3.0 in /usr/local/lib/python3.6/dist-packages (from aiohttp>=3.5.4->inltk) (19.3.0)\n",
      "Requirement already satisfied: chardet<4.0,>=2.0 in /usr/local/lib/python3.6/dist-packages (from aiohttp>=3.5.4->inltk) (3.0.4)\n",
      "Collecting idna-ssl>=1.0; python_version < \"3.7\"\n",
      "  Downloading https://files.pythonhosted.org/packages/46/03/07c4894aae38b0de52b52586b24bf189bb83e4ddabfe2e2c8f2419eec6f4/idna-ssl-1.1.0.tar.gz\n",
      "Collecting multidict<5.0,>=4.5\n",
      "\u001b[?25l  Downloading https://files.pythonhosted.org/packages/1a/95/f50352b5366e7d579e8b99631680a9e32e1b22adfa1629a8f23b1d22d5e2/multidict-4.7.6-cp36-cp36m-manylinux1_x86_64.whl (148kB)\n",
      "\u001b[K     |████████████████████████████████| 153kB 21.1MB/s \n",
      "\u001b[?25hRequirement already satisfied: typing-extensions>=3.6.5; python_version < \"3.7\" in /usr/local/lib/python3.6/dist-packages (from aiohttp>=3.5.4->inltk) (3.6.6)\n",
      "Requirement already satisfied: murmurhash<1.1.0,>=0.28.0 in /usr/local/lib/python3.6/dist-packages (from spacy>=2.0.18->inltk) (1.0.2)\n",
      "Requirement already satisfied: setuptools in /usr/local/lib/python3.6/dist-packages (from spacy>=2.0.18->inltk) (47.3.1)\n",
      "Requirement already satisfied: cymem<2.1.0,>=2.0.2 in /usr/local/lib/python3.6/dist-packages (from spacy>=2.0.18->inltk) (2.0.3)\n",
      "Requirement already satisfied: thinc==7.4.0 in /usr/local/lib/python3.6/dist-packages (from spacy>=2.0.18->inltk) (7.4.0)\n",
      "Requirement already satisfied: catalogue<1.1.0,>=0.0.7 in /usr/local/lib/python3.6/dist-packages (from spacy>=2.0.18->inltk) (1.0.0)\n",
      "Requirement already satisfied: wasabi<1.1.0,>=0.4.0 in /usr/local/lib/python3.6/dist-packages (from spacy>=2.0.18->inltk) (0.7.0)\n",
      "Requirement already satisfied: blis<0.5.0,>=0.4.0 in /usr/local/lib/python3.6/dist-packages (from spacy>=2.0.18->inltk) (0.4.1)\n",
      "Requirement already satisfied: preshed<3.1.0,>=3.0.2 in /usr/local/lib/python3.6/dist-packages (from spacy>=2.0.18->inltk) (3.0.2)\n",
      "Requirement already satisfied: tqdm<5.0.0,>=4.38.0 in /usr/local/lib/python3.6/dist-packages (from spacy>=2.0.18->inltk) (4.41.1)\n",
      "Requirement already satisfied: plac<1.2.0,>=0.9.6 in /usr/local/lib/python3.6/dist-packages (from spacy>=2.0.18->inltk) (1.1.3)\n",
      "Requirement already satisfied: srsly<1.1.0,>=1.0.2 in /usr/local/lib/python3.6/dist-packages (from spacy>=2.0.18->inltk) (1.0.2)\n",
      "Requirement already satisfied: torch>=1.0.0 in /usr/local/lib/python3.6/dist-packages (from fastai==1.0.57->inltk) (1.3.1+cpu)\n",
      "Requirement already satisfied: torchvision in /usr/local/lib/python3.6/dist-packages (from fastai==1.0.57->inltk) (0.6.1+cu101)\n",
      "Requirement already satisfied: urllib3!=1.25.0,!=1.25.1,<1.26,>=1.21.1 in /usr/local/lib/python3.6/dist-packages (from requests->inltk) (1.24.3)\n",
      "Requirement already satisfied: certifi>=2017.4.17 in /usr/local/lib/python3.6/dist-packages (from requests->inltk) (2020.6.20)\n",
      "Requirement already satisfied: idna<3,>=2.5 in /usr/local/lib/python3.6/dist-packages (from requests->inltk) (2.9)\n",
      "Requirement already satisfied: importlib-metadata>=0.20; python_version < \"3.8\" in /usr/local/lib/python3.6/dist-packages (from catalogue<1.1.0,>=0.0.7->spacy>=2.0.18->inltk) (1.6.1)\n",
      "Requirement already satisfied: zipp>=0.5 in /usr/local/lib/python3.6/dist-packages (from importlib-metadata>=0.20; python_version < \"3.8\"->catalogue<1.1.0,>=0.0.7->spacy>=2.0.18->inltk) (3.1.0)\n",
      "Building wheels for collected packages: idna-ssl\n",
      "  Building wheel for idna-ssl (setup.py) ... \u001b[?25l\u001b[?25hdone\n",
      "  Created wheel for idna-ssl: filename=idna_ssl-1.1.0-cp36-none-any.whl size=3162 sha256=a81097153803ab262e9d3307af17f31cf9ad8b139468c6e211e7c07a21761d67\n",
      "  Stored in directory: /root/.cache/pip/wheels/d3/00/b3/32d613e19e08a739751dd6bf998cfed277728f8b2127ad4eb7\n",
      "Successfully built idna-ssl\n",
      "Installing collected packages: multidict, yarl, async-timeout, idna-ssl, aiohttp, sentencepiece, fastai, inltk\n",
      "  Found existing installation: fastai 1.0.61\n",
      "    Uninstalling fastai-1.0.61:\n",
      "      Successfully uninstalled fastai-1.0.61\n",
      "Successfully installed aiohttp-3.6.2 async-timeout-3.0.1 fastai-1.0.57 idna-ssl-1.1.0 inltk-0.8.1 multidict-4.7.6 sentencepiece-0.1.91 yarl-1.4.2\n"
     ]
    }
   ],
   "source": [
    "!pip install inltk"
   ]
  },
  {
   "cell_type": "code",
   "execution_count": null,
   "metadata": {
    "colab": {},
    "colab_type": "code",
    "id": "OZARir0NQlgn"
   },
   "outputs": [],
   "source": [
    "import warnings\n",
    "warnings.filterwarnings(\"ignore\")"
   ]
  },
  {
   "cell_type": "code",
   "execution_count": null,
   "metadata": {
    "colab": {
     "base_uri": "https://localhost:8080/",
     "height": 35
    },
    "colab_type": "code",
    "id": "BmQC6nC98ODF",
    "outputId": "843b38b2-8c77-4700-80e8-c2388fa4a960"
   },
   "outputs": [
    {
     "name": "stdout",
     "output_type": "stream",
     "text": [
      "Done!\n"
     ]
    }
   ],
   "source": [
    "#SETTING UP AND DOWNLOADING MARATHI MODEL\n",
    "from inltk.inltk import setup\n",
    "setup('mr')"
   ]
  },
  {
   "cell_type": "markdown",
   "metadata": {
    "colab_type": "text",
    "id": "BjbGrlOuR2O0"
   },
   "source": [
    "#TOCKENIZATION"
   ]
  },
  {
   "cell_type": "code",
   "execution_count": null,
   "metadata": {
    "colab": {
     "base_uri": "https://localhost:8080/",
     "height": 1000
    },
    "colab_type": "code",
    "id": "tDTitL3C8aDt",
    "outputId": "b43f3fef-4e49-49af-e57a-878f81f1412c"
   },
   "outputs": [
    {
     "data": {
      "text/plain": [
       "['▁छत्रपती',\n",
       " '▁शिवाजीराजे',\n",
       " '▁भोसले',\n",
       " '▁',\n",
       " '(',\n",
       " '१९',\n",
       " '▁फेब्रुवारी',\n",
       " '▁१६३०',\n",
       " '▁ते',\n",
       " '▁३',\n",
       " '▁एप्रिल',\n",
       " '▁१६',\n",
       " '८०',\n",
       " ')',\n",
       " '▁हे',\n",
       " '▁मराठा',\n",
       " '▁साम्राज्याचे',\n",
       " '▁संस्थापक',\n",
       " '▁होते',\n",
       " '.',\n",
       " '▁भोसले',\n",
       " '▁कुळ',\n",
       " 'ातील',\n",
       " '▁या',\n",
       " '▁सुपुत्र',\n",
       " 'ाने',\n",
       " '▁विजापूर',\n",
       " 'च्या',\n",
       " '▁आदिलशाही',\n",
       " 'विरुद्ध',\n",
       " '▁आणि',\n",
       " '▁मोगल',\n",
       " '▁साम्राज्य',\n",
       " 'ाविरुद्ध',\n",
       " '▁ऐतिहासिक',\n",
       " '▁संघर्ष',\n",
       " '▁करून',\n",
       " '▁मराठा',\n",
       " '▁स्वराज्य',\n",
       " '▁स्थापन',\n",
       " '▁केले',\n",
       " '.',\n",
       " '▁रायगड',\n",
       " '▁ही',\n",
       " '▁राजधानी',\n",
       " '▁असलेले',\n",
       " '▁स्वतंत्र',\n",
       " '▁मराठा',\n",
       " '▁राज्य',\n",
       " '▁शिवाजीराजांन',\n",
       " 'ी',\n",
       " '▁उभे',\n",
       " '▁केले',\n",
       " '▁आणि',\n",
       " '▁इ',\n",
       " '.',\n",
       " 'स',\n",
       " '.',\n",
       " '▁१६७४',\n",
       " '▁मध्ये',\n",
       " '▁छत्रपती',\n",
       " '▁म्हणून',\n",
       " '▁राज्याभिषेक',\n",
       " '▁करवून',\n",
       " '▁घेतला',\n",
       " '.']"
      ]
     },
     "execution_count": 35,
     "metadata": {
      "tags": []
     },
     "output_type": "execute_result"
    }
   ],
   "source": [
    "from inltk.inltk import tokenize\n",
    "\n",
    "marathi_text = \"\"\"छत्रपती शिवाजीराजे भोसले (१९ फेब्रुवारी १६३० ते ३ एप्रिल १६८०) हे मराठा साम्राज्याचे संस्थापक होते. भोसले कुळातील या सुपुत्राने विजापूरच्या आदिलशाहीविरुद्ध आणि मोगल साम्राज्याविरुद्ध ऐतिहासिक संघर्ष करून मराठा स्वराज्य स्थापन केले. रायगड ही राजधानी असलेले स्वतंत्र मराठा राज्य शिवाजीराजांनी उभे केले आणि इ.स. १६७४ मध्ये छत्रपती म्हणून राज्याभिषेक करवून घेतला.\"\"\"\n",
    "\n",
    "# tokenize(input text, language code)\n",
    "tokenize(marathi_text, \"mr\")"
   ]
  },
  {
   "cell_type": "code",
   "execution_count": null,
   "metadata": {
    "colab": {
     "base_uri": "https://localhost:8080/",
     "height": 35
    },
    "colab_type": "code",
    "id": "5kXzb-PZ8tCD",
    "outputId": "a83b9cb5-09e4-4bc9-9baf-99ef4cc05d14"
   },
   "outputs": [
    {
     "data": {
      "text/html": [],
      "text/plain": [
       "<IPython.core.display.HTML object>"
      ]
     },
     "metadata": {
      "tags": []
     },
     "output_type": "display_data"
    },
    {
     "data": {
      "text/html": [],
      "text/plain": [
       "<IPython.core.display.HTML object>"
      ]
     },
     "metadata": {
      "tags": []
     },
     "output_type": "display_data"
    },
    {
     "data": {
      "text/html": [],
      "text/plain": [
       "<IPython.core.display.HTML object>"
      ]
     },
     "metadata": {
      "tags": []
     },
     "output_type": "display_data"
    },
    {
     "data": {
      "text/html": [],
      "text/plain": [
       "<IPython.core.display.HTML object>"
      ]
     },
     "metadata": {
      "tags": []
     },
     "output_type": "display_data"
    },
    {
     "data": {
      "text/html": [],
      "text/plain": [
       "<IPython.core.display.HTML object>"
      ]
     },
     "metadata": {
      "tags": []
     },
     "output_type": "display_data"
    },
    {
     "data": {
      "text/html": [],
      "text/plain": [
       "<IPython.core.display.HTML object>"
      ]
     },
     "metadata": {
      "tags": []
     },
     "output_type": "display_data"
    },
    {
     "data": {
      "text/html": [],
      "text/plain": [
       "<IPython.core.display.HTML object>"
      ]
     },
     "metadata": {
      "tags": []
     },
     "output_type": "display_data"
    },
    {
     "data": {
      "text/html": [],
      "text/plain": [
       "<IPython.core.display.HTML object>"
      ]
     },
     "metadata": {
      "tags": []
     },
     "output_type": "display_data"
    },
    {
     "data": {
      "text/html": [],
      "text/plain": [
       "<IPython.core.display.HTML object>"
      ]
     },
     "metadata": {
      "tags": []
     },
     "output_type": "display_data"
    },
    {
     "data": {
      "text/html": [],
      "text/plain": [
       "<IPython.core.display.HTML object>"
      ]
     },
     "metadata": {
      "tags": []
     },
     "output_type": "display_data"
    },
    {
     "data": {
      "text/html": [],
      "text/plain": [
       "<IPython.core.display.HTML object>"
      ]
     },
     "metadata": {
      "tags": []
     },
     "output_type": "display_data"
    },
    {
     "data": {
      "text/html": [],
      "text/plain": [
       "<IPython.core.display.HTML object>"
      ]
     },
     "metadata": {
      "tags": []
     },
     "output_type": "display_data"
    },
    {
     "data": {
      "text/html": [],
      "text/plain": [
       "<IPython.core.display.HTML object>"
      ]
     },
     "metadata": {
      "tags": []
     },
     "output_type": "display_data"
    },
    {
     "data": {
      "text/html": [],
      "text/plain": [
       "<IPython.core.display.HTML object>"
      ]
     },
     "metadata": {
      "tags": []
     },
     "output_type": "display_data"
    },
    {
     "data": {
      "text/html": [],
      "text/plain": [
       "<IPython.core.display.HTML object>"
      ]
     },
     "metadata": {
      "tags": []
     },
     "output_type": "display_data"
    },
    {
     "data": {
      "text/html": [],
      "text/plain": [
       "<IPython.core.display.HTML object>"
      ]
     },
     "metadata": {
      "tags": []
     },
     "output_type": "display_data"
    },
    {
     "data": {
      "text/html": [],
      "text/plain": [
       "<IPython.core.display.HTML object>"
      ]
     },
     "metadata": {
      "tags": []
     },
     "output_type": "display_data"
    },
    {
     "data": {
      "text/html": [],
      "text/plain": [
       "<IPython.core.display.HTML object>"
      ]
     },
     "metadata": {
      "tags": []
     },
     "output_type": "display_data"
    },
    {
     "data": {
      "text/html": [],
      "text/plain": [
       "<IPython.core.display.HTML object>"
      ]
     },
     "metadata": {
      "tags": []
     },
     "output_type": "display_data"
    },
    {
     "data": {
      "text/html": [],
      "text/plain": [
       "<IPython.core.display.HTML object>"
      ]
     },
     "metadata": {
      "tags": []
     },
     "output_type": "display_data"
    },
    {
     "data": {
      "text/html": [],
      "text/plain": [
       "<IPython.core.display.HTML object>"
      ]
     },
     "metadata": {
      "tags": []
     },
     "output_type": "display_data"
    },
    {
     "data": {
      "text/html": [],
      "text/plain": [
       "<IPython.core.display.HTML object>"
      ]
     },
     "metadata": {
      "tags": []
     },
     "output_type": "display_data"
    },
    {
     "data": {
      "text/html": [],
      "text/plain": [
       "<IPython.core.display.HTML object>"
      ]
     },
     "metadata": {
      "tags": []
     },
     "output_type": "display_data"
    },
    {
     "data": {
      "text/html": [],
      "text/plain": [
       "<IPython.core.display.HTML object>"
      ]
     },
     "metadata": {
      "tags": []
     },
     "output_type": "display_data"
    },
    {
     "data": {
      "text/html": [],
      "text/plain": [
       "<IPython.core.display.HTML object>"
      ]
     },
     "metadata": {
      "tags": []
     },
     "output_type": "display_data"
    },
    {
     "data": {
      "text/html": [],
      "text/plain": [
       "<IPython.core.display.HTML object>"
      ]
     },
     "metadata": {
      "tags": []
     },
     "output_type": "display_data"
    },
    {
     "data": {
      "text/html": [],
      "text/plain": [
       "<IPython.core.display.HTML object>"
      ]
     },
     "metadata": {
      "tags": []
     },
     "output_type": "display_data"
    },
    {
     "data": {
      "text/html": [],
      "text/plain": [
       "<IPython.core.display.HTML object>"
      ]
     },
     "metadata": {
      "tags": []
     },
     "output_type": "display_data"
    },
    {
     "data": {
      "text/html": [],
      "text/plain": [
       "<IPython.core.display.HTML object>"
      ]
     },
     "metadata": {
      "tags": []
     },
     "output_type": "display_data"
    },
    {
     "data": {
      "text/html": [],
      "text/plain": [
       "<IPython.core.display.HTML object>"
      ]
     },
     "metadata": {
      "tags": []
     },
     "output_type": "display_data"
    },
    {
     "data": {
      "text/html": [],
      "text/plain": [
       "<IPython.core.display.HTML object>"
      ]
     },
     "metadata": {
      "tags": []
     },
     "output_type": "display_data"
    },
    {
     "data": {
      "text/html": [],
      "text/plain": [
       "<IPython.core.display.HTML object>"
      ]
     },
     "metadata": {
      "tags": []
     },
     "output_type": "display_data"
    },
    {
     "data": {
      "text/html": [],
      "text/plain": [
       "<IPython.core.display.HTML object>"
      ]
     },
     "metadata": {
      "tags": []
     },
     "output_type": "display_data"
    },
    {
     "data": {
      "text/html": [],
      "text/plain": [
       "<IPython.core.display.HTML object>"
      ]
     },
     "metadata": {
      "tags": []
     },
     "output_type": "display_data"
    },
    {
     "data": {
      "text/html": [],
      "text/plain": [
       "<IPython.core.display.HTML object>"
      ]
     },
     "metadata": {
      "tags": []
     },
     "output_type": "display_data"
    },
    {
     "data": {
      "text/html": [],
      "text/plain": [
       "<IPython.core.display.HTML object>"
      ]
     },
     "metadata": {
      "tags": []
     },
     "output_type": "display_data"
    },
    {
     "data": {
      "text/html": [],
      "text/plain": [
       "<IPython.core.display.HTML object>"
      ]
     },
     "metadata": {
      "tags": []
     },
     "output_type": "display_data"
    },
    {
     "data": {
      "text/html": [],
      "text/plain": [
       "<IPython.core.display.HTML object>"
      ]
     },
     "metadata": {
      "tags": []
     },
     "output_type": "display_data"
    },
    {
     "data": {
      "text/html": [],
      "text/plain": [
       "<IPython.core.display.HTML object>"
      ]
     },
     "metadata": {
      "tags": []
     },
     "output_type": "display_data"
    },
    {
     "data": {
      "text/html": [],
      "text/plain": [
       "<IPython.core.display.HTML object>"
      ]
     },
     "metadata": {
      "tags": []
     },
     "output_type": "display_data"
    },
    {
     "data": {
      "text/html": [],
      "text/plain": [
       "<IPython.core.display.HTML object>"
      ]
     },
     "metadata": {
      "tags": []
     },
     "output_type": "display_data"
    },
    {
     "data": {
      "text/html": [],
      "text/plain": [
       "<IPython.core.display.HTML object>"
      ]
     },
     "metadata": {
      "tags": []
     },
     "output_type": "display_data"
    },
    {
     "data": {
      "text/html": [],
      "text/plain": [
       "<IPython.core.display.HTML object>"
      ]
     },
     "metadata": {
      "tags": []
     },
     "output_type": "display_data"
    },
    {
     "data": {
      "text/html": [],
      "text/plain": [
       "<IPython.core.display.HTML object>"
      ]
     },
     "metadata": {
      "tags": []
     },
     "output_type": "display_data"
    },
    {
     "name": "stdout",
     "output_type": "stream",
     "text": [
      "['हे सुंदर आहेत', 'हेच सुंदर आहे', 'हे सुरेख आहे', 'हे सुबक आहे', 'हे अप्रतिम आहे']\n"
     ]
    }
   ],
   "source": [
    "\n",
    "# get similar sentences to the one given in marathi\n",
    "\n",
    "from inltk.inltk import get_similar_sentences\n",
    "output = get_similar_sentences('हे सुंदर आहे', 5, 'mr')\n",
    "print(output)"
   ]
  },
  {
   "cell_type": "code",
   "execution_count": null,
   "metadata": {
    "colab": {
     "base_uri": "https://localhost:8080/",
     "height": 36
    },
    "colab_type": "code",
    "id": "XAvoOJn69BtN",
    "outputId": "66597804-a682-47df-fe4d-34ebbfc0d1c6"
   },
   "outputs": [
    {
     "data": {
      "text/html": [],
      "text/plain": [
       "<IPython.core.display.HTML object>"
      ]
     },
     "metadata": {
      "tags": []
     },
     "output_type": "display_data"
    },
    {
     "data": {
      "text/html": [],
      "text/plain": [
       "<IPython.core.display.HTML object>"
      ]
     },
     "metadata": {
      "tags": []
     },
     "output_type": "display_data"
    },
    {
     "data": {
      "application/vnd.google.colaboratory.intrinsic": {
       "type": "string"
      },
      "text/plain": [
       "'marathi'"
      ]
     },
     "execution_count": 24,
     "metadata": {
      "tags": []
     },
     "output_type": "execute_result"
    }
   ],
   "source": [
    "#identify language\n",
    "\n",
    "from inltk.inltk import identify_language\n",
    "identify_language(\"हे सुंदर आहेत\")"
   ]
  },
  {
   "cell_type": "code",
   "execution_count": null,
   "metadata": {
    "colab": {
     "base_uri": "https://localhost:8080/",
     "height": 72
    },
    "colab_type": "code",
    "id": "P6EfSEsH9bro",
    "outputId": "c2ef8377-7870-4bb0-e5cb-5fca81b4b1cd"
   },
   "outputs": [
    {
     "data": {
      "text/html": [],
      "text/plain": [
       "<IPython.core.display.HTML object>"
      ]
     },
     "metadata": {
      "tags": []
     },
     "output_type": "display_data"
    },
    {
     "data": {
      "text/html": [],
      "text/plain": [
       "<IPython.core.display.HTML object>"
      ]
     },
     "metadata": {
      "tags": []
     },
     "output_type": "display_data"
    },
    {
     "name": "stdout",
     "output_type": "stream",
     "text": [
      "[array([-0.766978,  1.513968, -0.033963, -0.185132, ..., -0.430836,  0.072535, -0.692501, -0.028364], dtype=float32), array([ 0.03169 ,  0.077115, -0.014566, -0.679269, ...,  0.413337, -0.011085,  0.145667,  0.521667], dtype=float32), array([-0.030038,  0.11468 , -0.636077,  0.073185, ...,  0.736854,  0.182368, -0.631047, -0.143534], dtype=float32)]\n",
      "shape: (400,)\n"
     ]
    }
   ],
   "source": [
    "from inltk.inltk import get_embedding_vectors\n",
    "\n",
    "# get embedding for input words\n",
    "vectors = get_embedding_vectors(\"हे सुंदर आहेत\", \"mr\")\n",
    "\n",
    "print(vectors)\n",
    "# print shape of the first word\n",
    "print(\"shape:\", vectors[0].shape)"
   ]
  },
  {
   "cell_type": "code",
   "execution_count": null,
   "metadata": {
    "colab": {
     "base_uri": "https://localhost:8080/",
     "height": 53
    },
    "colab_type": "code",
    "id": "upPnQ3409uWF",
    "outputId": "ba701895-3bb1-4d10-911c-b36e4cfed08e"
   },
   "outputs": [
    {
     "name": "stdout",
     "output_type": "stream",
     "text": [
      "Done!\n"
     ]
    },
    {
     "data": {
      "text/html": [],
      "text/plain": [
       "<IPython.core.display.HTML object>"
      ]
     },
     "metadata": {
      "tags": []
     },
     "output_type": "display_data"
    },
    {
     "data": {
      "text/html": [],
      "text/plain": [
       "<IPython.core.display.HTML object>"
      ]
     },
     "metadata": {
      "tags": []
     },
     "output_type": "display_data"
    },
    {
     "data": {
      "application/vnd.google.colaboratory.intrinsic": {
       "type": "string"
      },
      "text/plain": [
       "'हे सुंदर गावांसोबत प्रबळ संघाकडून अंगमाखडत्या जागेत जाणारे'"
      ]
     },
     "execution_count": 26,
     "metadata": {
      "tags": []
     },
     "output_type": "execute_result"
    }
   ],
   "source": [
    "from inltk.inltk import setup\n",
    "from inltk.inltk import predict_next_words\n",
    "\n",
    "# download models for marathi\n",
    "setup('mr')\n",
    "# predict the next words of the sentence \"The weather is nice today\"\n",
    "predict_next_words(\"हे सुंदर\", 10, \"mr\", 0.7)"
   ]
  },
  {
   "cell_type": "code",
   "execution_count": null,
   "metadata": {
    "colab": {
     "base_uri": "https://localhost:8080/",
     "height": 35
    },
    "colab_type": "code",
    "id": "1E0_1vj993tO",
    "outputId": "f51f6b6f-1614-43fd-cfcb-d919cf7ac2fd"
   },
   "outputs": [
    {
     "data": {
      "text/html": [],
      "text/plain": [
       "<IPython.core.display.HTML object>"
      ]
     },
     "metadata": {
      "tags": []
     },
     "output_type": "display_data"
    },
    {
     "data": {
      "text/html": [],
      "text/plain": [
       "<IPython.core.display.HTML object>"
      ]
     },
     "metadata": {
      "tags": []
     },
     "output_type": "display_data"
    },
    {
     "data": {
      "text/html": [],
      "text/plain": [
       "<IPython.core.display.HTML object>"
      ]
     },
     "metadata": {
      "tags": []
     },
     "output_type": "display_data"
    },
    {
     "data": {
      "text/html": [],
      "text/plain": [
       "<IPython.core.display.HTML object>"
      ]
     },
     "metadata": {
      "tags": []
     },
     "output_type": "display_data"
    },
    {
     "data": {
      "text/plain": [
       "0.43012723326683044"
      ]
     },
     "execution_count": 27,
     "metadata": {
      "tags": []
     },
     "output_type": "execute_result"
    }
   ],
   "source": [
    "from inltk.inltk import get_sentence_similarity\n",
    "\n",
    "# similarity of encodings is calculated by using cmp function whose default is cosine similarity\n",
    "get_sentence_similarity('हे सुंदर आहे', 'हे कुरुप आहे', 'mr')"
   ]
  },
  {
   "cell_type": "code",
   "execution_count": 43,
   "metadata": {
    "colab": {
     "base_uri": "https://localhost:8080/",
     "height": 153
    },
    "colab_type": "code",
    "id": "1F7cotWb_Hxx",
    "outputId": "2d68cbc1-d953-4a14-cdbb-0c9c36a94a7b"
   },
   "outputs": [
    {
     "data": {
      "text/html": [],
      "text/plain": [
       "<IPython.core.display.HTML object>"
      ]
     },
     "metadata": {
      "tags": []
     },
     "output_type": "display_data"
    },
    {
     "data": {
      "text/html": [],
      "text/plain": [
       "<IPython.core.display.HTML object>"
      ]
     },
     "metadata": {
      "tags": []
     },
     "output_type": "display_data"
    },
    {
     "name": "stdout",
     "output_type": "stream",
     "text": [
      "कितीतरी मोठे\n"
     ]
    },
    {
     "data": {
      "text/html": [],
      "text/plain": [
       "<IPython.core.display.HTML object>"
      ]
     },
     "metadata": {
      "tags": []
     },
     "output_type": "display_data"
    },
    {
     "data": {
      "text/html": [],
      "text/plain": [
       "<IPython.core.display.HTML object>"
      ]
     },
     "metadata": {
      "tags": []
     },
     "output_type": "display_data"
    },
    {
     "name": "stdout",
     "output_type": "stream",
     "text": [
      "किती वेळा हा\n"
     ]
    },
    {
     "data": {
      "text/html": [],
      "text/plain": [
       "<IPython.core.display.HTML object>"
      ]
     },
     "metadata": {
      "tags": []
     },
     "output_type": "display_data"
    },
    {
     "data": {
      "text/html": [],
      "text/plain": [
       "<IPython.core.display.HTML object>"
      ]
     },
     "metadata": {
      "tags": []
     },
     "output_type": "display_data"
    },
    {
     "name": "stdout",
     "output_type": "stream",
     "text": [
      "कितीतरी संपूर्ण\n"
     ]
    },
    {
     "data": {
      "text/html": [],
      "text/plain": [
       "<IPython.core.display.HTML object>"
      ]
     },
     "metadata": {
      "tags": []
     },
     "output_type": "display_data"
    },
    {
     "data": {
      "text/html": [],
      "text/plain": [
       "<IPython.core.display.HTML object>"
      ]
     },
     "metadata": {
      "tags": []
     },
     "output_type": "display_data"
    },
    {
     "name": "stdout",
     "output_type": "stream",
     "text": [
      "कितीतरी वेगळे\n"
     ]
    },
    {
     "data": {
      "text/html": [],
      "text/plain": [
       "<IPython.core.display.HTML object>"
      ]
     },
     "metadata": {
      "tags": []
     },
     "output_type": "display_data"
    },
    {
     "data": {
      "text/html": [],
      "text/plain": [
       "<IPython.core.display.HTML object>"
      ]
     },
     "metadata": {
      "tags": []
     },
     "output_type": "display_data"
    },
    {
     "name": "stdout",
     "output_type": "stream",
     "text": [
      "कितीतरी मनी\n"
     ]
    },
    {
     "data": {
      "text/html": [],
      "text/plain": [
       "<IPython.core.display.HTML object>"
      ]
     },
     "metadata": {
      "tags": []
     },
     "output_type": "display_data"
    },
    {
     "data": {
      "text/html": [],
      "text/plain": [
       "<IPython.core.display.HTML object>"
      ]
     },
     "metadata": {
      "tags": []
     },
     "output_type": "display_data"
    },
    {
     "name": "stdout",
     "output_type": "stream",
     "text": [
      "कितीतरी खेळ\n"
     ]
    },
    {
     "data": {
      "text/html": [],
      "text/plain": [
       "<IPython.core.display.HTML object>"
      ]
     },
     "metadata": {
      "tags": []
     },
     "output_type": "display_data"
    },
    {
     "data": {
      "text/html": [],
      "text/plain": [
       "<IPython.core.display.HTML object>"
      ]
     },
     "metadata": {
      "tags": []
     },
     "output_type": "display_data"
    },
    {
     "name": "stdout",
     "output_type": "stream",
     "text": [
      "कितीतरी अधिकृत\n"
     ]
    },
    {
     "data": {
      "text/html": [],
      "text/plain": [
       "<IPython.core.display.HTML object>"
      ]
     },
     "metadata": {
      "tags": []
     },
     "output_type": "display_data"
    },
    {
     "data": {
      "text/html": [],
      "text/plain": [
       "<IPython.core.display.HTML object>"
      ]
     },
     "metadata": {
      "tags": []
     },
     "output_type": "display_data"
    },
    {
     "name": "stdout",
     "output_type": "stream",
     "text": [
      "किती सामने हे\n"
     ]
    }
   ],
   "source": [
    "from inltk.inltk import predict_next_words\n",
    "\n",
    "for i in range(0,8):\n",
    "  print(predict_next_words(\"किती\" , 2, 'mr'))\n"
   ]
  },
  {
   "cell_type": "code",
   "execution_count": null,
   "metadata": {
    "colab": {
     "base_uri": "https://localhost:8080/",
     "height": 34
    },
    "colab_type": "code",
    "id": "RXnm4imeACtp",
    "outputId": "5592fe21-750b-461f-a412-405e7171c190"
   },
   "outputs": [
    {
     "data": {
      "text/plain": [
       "['▁किती', '▁लोक', '▁अभ्यास', '▁करत', '▁आहेत']"
      ]
     },
     "execution_count": 19,
     "metadata": {
      "tags": []
     },
     "output_type": "execute_result"
    }
   ],
   "source": [
    "from inltk.inltk import remove_foreign_languages\n",
    "\n",
    "remove_foreign_languages(\"किती लोक अभ्यास करत आहेत \\n \\n \\t \", 'mr')\n"
   ]
  },
  {
   "cell_type": "code",
   "execution_count": null,
   "metadata": {
    "colab": {
     "base_uri": "https://localhost:8080/",
     "height": 35
    },
    "colab_type": "code",
    "id": "nsald5T9AboA",
    "outputId": "05a13a5f-ccae-4f71-ce8c-39b463ea906b"
   },
   "outputs": [
    {
     "data": {
      "text/html": [],
      "text/plain": [
       "<IPython.core.display.HTML object>"
      ]
     },
     "metadata": {
      "tags": []
     },
     "output_type": "display_data"
    },
    {
     "data": {
      "text/html": [],
      "text/plain": [
       "<IPython.core.display.HTML object>"
      ]
     },
     "metadata": {
      "tags": []
     },
     "output_type": "display_data"
    },
    {
     "data": {
      "text/html": [],
      "text/plain": [
       "<IPython.core.display.HTML object>"
      ]
     },
     "metadata": {
      "tags": []
     },
     "output_type": "display_data"
    },
    {
     "data": {
      "text/html": [],
      "text/plain": [
       "<IPython.core.display.HTML object>"
      ]
     },
     "metadata": {
      "tags": []
     },
     "output_type": "display_data"
    },
    {
     "data": {
      "text/plain": [
       "(400,)"
      ]
     },
     "execution_count": 33,
     "metadata": {
      "tags": []
     },
     "output_type": "execute_result"
    }
   ],
   "source": [
    "from inltk.inltk import get_sentence_encoding\n",
    "\n",
    "get_sentence_encoding(\"किती लोक अभ्यास करत आहेत\", 'mr')\n",
    "\n",
    "encoding = get_sentence_encoding('किती लोक अभ्यास करत आहेत', 'mr')\n",
    "encoding.shape"
   ]
  },
  {
   "cell_type": "code",
   "execution_count": null,
   "metadata": {
    "colab": {
     "base_uri": "https://localhost:8080/",
     "height": 35
    },
    "colab_type": "code",
    "id": "Vm2t-jEdQTJQ",
    "outputId": "a64cf894-bd79-4928-ffb4-eef560c26766"
   },
   "outputs": [
    {
     "data": {
      "text/plain": [
       "array([-0.077341, -0.186104,  0.0108  , -0.000365, ..., -0.214293,  0.014825, -0.004368,  0.009204], dtype=float32)"
      ]
     },
     "execution_count": 34,
     "metadata": {
      "tags": []
     },
     "output_type": "execute_result"
    }
   ],
   "source": [
    "encoding"
   ]
  },
  {
   "cell_type": "code",
   "execution_count": null,
   "metadata": {
    "colab": {},
    "colab_type": "code",
    "id": "zBYIE3pNRCfo"
   },
   "outputs": [],
   "source": []
  }
 ],
 "metadata": {
  "colab": {
   "collapsed_sections": [],
   "name": "MARATHI_INLTK.ipynb",
   "provenance": []
  },
  "kernelspec": {
   "display_name": "Python 3",
   "language": "python",
   "name": "python3"
  },
  "language_info": {
   "codemirror_mode": {
    "name": "ipython",
    "version": 3
   },
   "file_extension": ".py",
   "mimetype": "text/x-python",
   "name": "python",
   "nbconvert_exporter": "python",
   "pygments_lexer": "ipython3",
   "version": "3.7.7"
  }
 },
 "nbformat": 4,
 "nbformat_minor": 1
}
