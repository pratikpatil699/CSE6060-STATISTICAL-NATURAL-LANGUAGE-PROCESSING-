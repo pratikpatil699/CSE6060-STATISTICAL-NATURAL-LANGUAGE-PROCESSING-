{
 "cells": [
  {
   "cell_type": "code",
   "execution_count": 5,
   "metadata": {},
   "outputs": [],
   "source": [
    "import nltk"
   ]
  },
  {
   "cell_type": "code",
   "execution_count": 6,
   "metadata": {},
   "outputs": [],
   "source": [
    "with open (\"Dataset\\\\GettysAddress.txt\" , 'r') as f:\n",
    "    address_text = f.read()"
   ]
  },
  {
   "cell_type": "code",
   "execution_count": 7,
   "metadata": {},
   "outputs": [
    {
     "name": "stdout",
     "output_type": "stream",
     "text": [
      "['\\nFour score and seven years ago our fathers brought forth on this continent, a new nation, conceived in Liberty, and dedicated to the proposition that all men are created equal.', 'Now we are engaged in a great civil war, testing whether that nation, or any nation so conceived and dedicated, can long endure.', 'We are met on a great battle-field of that war.', 'We have come to dedicate a portion of that field, as a final resting place for those who here gave their lives that that nation might live.', 'It is altogether fitting and proper that we should do this.', 'But, in a larger sense, we can not dedicate -- we can not consecrate -- we can not hallow -- this ground.', 'The brave men, living and dead, who struggled here, have consecrated it, far above our poor power  add or detract.', 'The world will little note, nor long remember what we say here, but it can never forget what they did here.', 'It is for us the living, rather, to be dedicated here to the unfinished work which they who fought here have thus far so nobly advanced.', 'It is rather for us to be here dedicated to the great task remaining before us -- that from these honored dead we take increased devotion to that cause for which they gave the last full measure of devotion -- that we here highly resolve that these dead shall not have died in vain -- that this nation, under God, shall have a new birth of freedom -- and that government of the people, by the people, for the e, shall not perish from the earth.']\n"
     ]
    }
   ],
   "source": [
    "tokenized_sentences = nltk.tokenize.sent_tokenize(address_text)\n",
    "print(tokenized_sentences)"
   ]
  },
  {
   "cell_type": "code",
   "execution_count": 8,
   "metadata": {},
   "outputs": [
    {
     "name": "stdout",
     "output_type": "stream",
     "text": [
      "['\\nFour score and seven years ago our fathers brought forth on this continent, a new nation, conceived in Liberty, and dedicated to the proposition that all men are created equal.', 'Now we are engaged in a great civil war, testing whether that nation, or any nation so conceived and dedicated, can long endure.', 'We are met on a great battle-field of that war.', 'We have come to dedicate a portion of that field, as a final resting place for those who here gave their lives that that nation might live.', 'It is altogether fitting and proper that we should do this.', 'But, in a larger sense, we can not dedicate -- we can not consecrate -- we can not hallow -- this ground.', 'The brave men, living and dead, who struggled here, have consecrated it, far above our poor power  add or detract.', 'The world will little note, nor long remember what we say here, but it can never forget what they did here.', 'It is for us the living, rather, to be dedicated here to the unfinished work which they who fought here have thus far so nobly advanced.', 'It is rather for us to be here dedicated to the great task remaining before us -- that from these honored dead we take increased devotion to that cause for which they gave the last full measure of devotion -- that we here highly resolve that these dead shall not have died in vain -- that this nation, under God, shall have a new birth of freedom -- and that government of the people, by the people, for the e, shall not perish from the earth.']\n"
     ]
    }
   ],
   "source": [
    "sentences = []\n",
    "for sentence in tokenized_sentences:\n",
    "    sentences.append(sentence.rstrip('\\r\\n'))\n",
    "print(sentences)"
   ]
  },
  {
   "cell_type": "code",
   "execution_count": 9,
   "metadata": {},
   "outputs": [
    {
     "name": "stdout",
     "output_type": "stream",
     "text": [
      "['Four', 'score', 'and', 'seven', 'years', 'ago', 'our', 'fathers', 'brought', 'forth', 'on', 'this', 'continent', ',', 'a', 'new', 'nation', ',', 'conceived', 'in', 'Liberty', ',', 'and', 'dedicated', 'to', 'the', 'proposition', 'that', 'all', 'men', 'are', 'created', 'equal', '.', 'Now', 'we', 'are', 'engaged', 'in', 'a', 'great', 'civil', 'war', ',', 'testing', 'whether', 'that', 'nation', ',', 'or', 'any', 'nation', 'so', 'conceived', 'and', 'dedicated', ',', 'can', 'long', 'endure', '.', 'We', 'are', 'met', 'on', 'a', 'great', 'battle', '-', 'field', 'of', 'that', 'war', '.', 'We', 'have', 'come', 'to', 'dedicate', 'a', 'portion', 'of', 'that', 'field', ',', 'as', 'a', 'final', 'resting', 'place', 'for', 'those', 'who', 'here', 'gave', 'their', 'lives', 'that', 'that', 'nation', 'might', 'live', '.', 'It', 'is', 'altogether', 'fitting', 'and', 'proper', 'that', 'we', 'should', 'do', 'this', '.', 'But', ',', 'in', 'a', 'larger', 'sense', ',', 'we', 'can', 'not', 'dedicate', '--', 'we', 'can', 'not', 'consecrate', '--', 'we', 'can', 'not', 'hallow', '--', 'this', 'ground', '.', 'The', 'brave', 'men', ',', 'living', 'and', 'dead', ',', 'who', 'struggled', 'here', ',', 'have', 'consecrated', 'it', ',', 'far', 'above', 'our', 'poor', 'power', 'add', 'or', 'detract', '.', 'The', 'world', 'will', 'little', 'note', ',', 'nor', 'long', 'remember', 'what', 'we', 'say', 'here', ',', 'but', 'it', 'can', 'never', 'forget', 'what', 'they', 'did', 'here', '.', 'It', 'is', 'for', 'us', 'the', 'living', ',', 'rather', ',', 'to', 'be', 'dedicated', 'here', 'to', 'the', 'unfinished', 'work', 'which', 'they', 'who', 'fought', 'here', 'have', 'thus', 'far', 'so', 'nobly', 'advanced', '.', 'It', 'is', 'rather', 'for', 'us', 'to', 'be', 'here', 'dedicated', 'to', 'the', 'great', 'task', 'remaining', 'before', 'us', '--', 'that', 'from', 'these', 'honored', 'dead', 'we', 'take', 'increased', 'devotion', 'to', 'that', 'cause', 'for', 'which', 'they', 'gave', 'the', 'last', 'full', 'measure', 'of', 'devotion', '--', 'that', 'we', 'here', 'highly', 'resolve', 'that', 'these', 'dead', 'shall', 'not', 'have', 'died', 'in', 'vain', '--', 'that', 'this', 'nation', ',', 'under', 'God', ',', 'shall', 'have', 'a', 'new', 'birth', 'of', 'freedom', '--', 'and', 'that', 'government', 'of', 'the', 'people', ',', 'by', 'the', 'people', ',', 'for', 'the', 'e', ',', 'shall', 'not', 'perish', 'from', 'the', 'earth', '.']\n"
     ]
    }
   ],
   "source": [
    "tokenized_words = []\n",
    "for sent in sentences:\n",
    "    words = nltk.wordpunct_tokenize(sent)\n",
    "    for word in words:\n",
    "        tokenized_words.append(word)\n",
    "\n",
    "print(tokenized_words)"
   ]
  },
  {
   "cell_type": "code",
   "execution_count": 15,
   "metadata": {},
   "outputs": [
    {
     "name": "stdout",
     "output_type": "stream",
     "text": [
      "['Four', 'score', 'seven', 'years', 'ago', 'fathers', 'brought', 'forth', 'continent', ',', 'new', 'nation', ',', 'conceived', 'Liberty', ',', 'dedicated', 'proposition', 'men', 'created', 'equal', '.', 'Now', 'engaged', 'great', 'civil', 'war', ',', 'testing', 'whether', 'nation', ',', 'nation', 'conceived', 'dedicated', ',', 'long', 'endure', '.', 'We', 'met', 'great', 'battle', '-', 'field', 'war', '.', 'We', 'come', 'dedicate', 'portion', 'field', ',', 'final', 'resting', 'place', 'gave', 'lives', 'nation', 'might', 'live', '.', 'It', 'altogether', 'fitting', 'proper', '.', 'But', ',', 'larger', 'sense', ',', 'dedicate', '--', 'consecrate', '--', 'hallow', '--', 'ground', '.', 'The', 'brave', 'men', ',', 'living', 'dead', ',', 'struggled', ',', 'consecrated', ',', 'far', 'poor', 'power', 'add', 'detract', '.', 'The', 'world', 'little', 'note', ',', 'long', 'remember', 'say', ',', 'never', 'forget', '.', 'It', 'us', 'living', ',', 'rather', ',', 'dedicated', 'unfinished', 'work', 'fought', 'thus', 'far', 'nobly', 'advanced', '.', 'It', 'rather', 'us', 'dedicated', 'great', 'task', 'remaining', 'us', '--', 'honored', 'dead', 'take', 'increased', 'devotion', 'cause', 'gave', 'last', 'full', 'measure', 'devotion', '--', 'highly', 'resolve', 'dead', 'shall', 'died', 'vain', '--', 'nation', ',', 'God', ',', 'shall', 'new', 'birth', 'freedom', '--', 'government', 'people', ',', 'people', ',', 'e', ',', 'shall', 'perish', 'earth', '.']\n"
     ]
    }
   ],
   "source": [
    "stopwords_nltk = nltk.corpus.stopwords.words('english')\n",
    "def remove_unnecessary_words(words):\n",
    "    words_withoutstopwords = [word for word in words if word not in stopwords_nltk]\n",
    "    return words_withoutstopwords\n",
    "words = remove_unnecessary_words(tokenized_words)\n",
    "print(words)"
   ]
  },
  {
   "cell_type": "code",
   "execution_count": 18,
   "metadata": {},
   "outputs": [
    {
     "name": "stdout",
     "output_type": "stream",
     "text": [
      "310\n",
      "172\n"
     ]
    }
   ],
   "source": [
    "print(len(tokenized_words))\n",
    "print(len(words))"
   ]
  },
  {
   "cell_type": "code",
   "execution_count": 22,
   "metadata": {},
   "outputs": [
    {
     "name": "stdout",
     "output_type": "stream",
     "text": [
      "Four score, score seven, seven years, years ago, ago fathers, fathers brought, brought forth, forth continent, continent ,, , new, new nation, nation ,, , conceived, conceived Liberty, Liberty ,, , dedicated, dedicated proposition, proposition men, men created, created equal, equal ., . Now, Now engaged, engaged great, great civil, civil war, war ,, , testing, testing whether, whether nation, nation ,, , nation, nation conceived, conceived dedicated, dedicated ,, , long, long endure, endure ., . We, We met, met great, great battle, battle -, - field, field war, war ., . We, We come, come dedicate, dedicate portion, portion field, field ,, , final, final resting, resting place, place gave, gave lives, lives nation, nation might, might live, live ., . It, It altogether, altogether fitting, fitting proper, proper ., . But, But ,, , larger, larger sense, sense ,, , dedicate, dedicate --, -- consecrate, consecrate --, -- hallow, hallow --, -- ground, ground ., . The, The brave, brave men, men ,, , living, living dead, dead ,, , struggled, struggled ,, , consecrated, consecrated ,, , far, far poor, poor power, power add, add detract, detract ., . The, The world, world little, little note, note ,, , long, long remember, remember say, say ,, , never, never forget, forget ., . It, It us, us living, living ,, , rather, rather ,, , dedicated, dedicated unfinished, unfinished work, work fought, fought thus, thus far, far nobly, nobly advanced, advanced ., . It, It rather, rather us, us dedicated, dedicated great, great task, task remaining, remaining us, us --, -- honored, honored dead, dead take, take increased, increased devotion, devotion cause, cause gave, gave last, last full, full measure, measure devotion, devotion --, -- highly, highly resolve, resolve dead, dead shall, shall died, died vain, vain --, -- nation, nation ,, , God, God ,, , shall, shall new, new birth, birth freedom, freedom --, -- government, government people, people ,, , people, people ,, , e, e ,, , shall, shall perish, perish earth, earth .\n"
     ]
    }
   ],
   "source": [
    "bigram = list(nltk.bigrams(words))\n",
    "print(*map(' '.join, bigram), sep=', ')"
   ]
  },
  {
   "cell_type": "code",
   "execution_count": 25,
   "metadata": {},
   "outputs": [
    {
     "data": {
      "text/plain": [
       "[((',', 'God'), ('God', ',')),\n",
       " ((',', 'conceived'), ('conceived', 'Liberty')),\n",
       " ((',', 'consecrated'), ('consecrated', ',')),\n",
       " ((',', 'dedicate'), ('dedicate', '--')),\n",
       " ((',', 'e'), ('e', ',')),\n",
       " ((',', 'far'), ('far', 'poor')),\n",
       " ((',', 'final'), ('final', 'resting')),\n",
       " ((',', 'larger'), ('larger', 'sense')),\n",
       " ((',', 'living'), ('living', 'dead')),\n",
       " ((',', 'nation'), ('nation', 'conceived')),\n",
       " ((',', 'never'), ('never', 'forget')),\n",
       " ((',', 'new'), ('new', 'nation')),\n",
       " ((',', 'rather'), ('rather', ',')),\n",
       " ((',', 'struggled'), ('struggled', ',')),\n",
       " ((',', 'testing'), ('testing', 'whether'))]"
      ]
     },
     "execution_count": 25,
     "metadata": {},
     "output_type": "execute_result"
    }
   ],
   "source": [
    "from nltk.collocations import BigramCollocationFinder\n",
    "from nltk.metrics import BigramAssocMeasures \n",
    "biagram_collocation = BigramCollocationFinder.from_words(bigram)\n",
    "biagram_collocation.nbest(BigramAssocMeasures.likelihood_ratio, 15)"
   ]
  },
  {
   "cell_type": "code",
   "execution_count": null,
   "metadata": {},
   "outputs": [],
   "source": []
  }
 ],
 "metadata": {
  "kernelspec": {
   "display_name": "Python 3",
   "language": "python",
   "name": "python3"
  },
  "language_info": {
   "codemirror_mode": {
    "name": "ipython",
    "version": 3
   },
   "file_extension": ".py",
   "mimetype": "text/x-python",
   "name": "python",
   "nbconvert_exporter": "python",
   "pygments_lexer": "ipython3",
   "version": "3.7.7"
  }
 },
 "nbformat": 4,
 "nbformat_minor": 4
}
